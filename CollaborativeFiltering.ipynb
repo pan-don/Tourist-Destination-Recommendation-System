{
 "cells": [
  {
   "cell_type": "code",
   "execution_count": 1,
   "metadata": {},
   "outputs": [
    {
     "name": "stderr",
     "output_type": "stream",
     "text": [
      "c:\\Users\\Afan Ramadhan\\AppData\\Local\\Programs\\Python\\Python312\\Lib\\site-packages\\ignite\\handlers\\checkpoint.py:16: DeprecationWarning: `TorchScript` support for functional optimizers is deprecated and will be removed in a future PyTorch release. Consider using the `torch.compile` optimizer instead.\n",
      "  from torch.distributed.optim import ZeroRedundancyOptimizer\n"
     ]
    }
   ],
   "source": [
    "# import library\n",
    "import os\n",
    "from pathlib import Path\n",
    "import pandas as pd\n",
    "import numpy as np\n",
    "import matplotlib.pyplot as plt\n",
    "from sklearn.model_selection import train_test_split\n",
    "from Models import Model\n",
    "import warnings\n",
    "\n",
    "import torch\n",
    "from torch import nn, optim\n",
    "from torch.optim import lr_scheduler\n",
    "from torch.utils.data import  TensorDataset, DataLoader\n",
    "\n",
    "import ignite\n",
    "from ignite.engine import Engine, Events\n",
    "from ignite.metrics import Loss, RunningAverage, MeanSquaredError, MeanAbsoluteError, RootMeanSquaredError\n",
    "from ignite.handlers import EarlyStopping, ModelCheckpoint, TerminateOnNan, ProgressBar\n",
    "\n",
    "warnings.filterwarnings('ignore')\n",
    "device = \"cuda\" if torch.cuda.is_available() else \"cpu\"\n",
    "device = \"cpu\""
   ]
  },
  {
   "cell_type": "code",
   "execution_count": 2,
   "metadata": {},
   "outputs": [],
   "source": [
    "# import tourist dataset\n",
    "df = pd.read_csv(\"Dataset/tourism_rating.csv\")"
   ]
  },
  {
   "cell_type": "markdown",
   "metadata": {},
   "source": [
    "## **Exploratory Data Analysis**"
   ]
  },
  {
   "cell_type": "markdown",
   "metadata": {},
   "source": [
    "### Check Basic Dataset Information"
   ]
  },
  {
   "cell_type": "code",
   "execution_count": 3,
   "metadata": {},
   "outputs": [
    {
     "data": {
      "text/html": [
       "<div>\n",
       "<style scoped>\n",
       "    .dataframe tbody tr th:only-of-type {\n",
       "        vertical-align: middle;\n",
       "    }\n",
       "\n",
       "    .dataframe tbody tr th {\n",
       "        vertical-align: top;\n",
       "    }\n",
       "\n",
       "    .dataframe thead th {\n",
       "        text-align: right;\n",
       "    }\n",
       "</style>\n",
       "<table border=\"1\" class=\"dataframe\">\n",
       "  <thead>\n",
       "    <tr style=\"text-align: right;\">\n",
       "      <th></th>\n",
       "      <th>User_Id</th>\n",
       "      <th>Place_Id</th>\n",
       "      <th>Place_Ratings</th>\n",
       "    </tr>\n",
       "  </thead>\n",
       "  <tbody>\n",
       "    <tr>\n",
       "      <th>0</th>\n",
       "      <td>1</td>\n",
       "      <td>179</td>\n",
       "      <td>3</td>\n",
       "    </tr>\n",
       "    <tr>\n",
       "      <th>1</th>\n",
       "      <td>1</td>\n",
       "      <td>344</td>\n",
       "      <td>2</td>\n",
       "    </tr>\n",
       "    <tr>\n",
       "      <th>2</th>\n",
       "      <td>1</td>\n",
       "      <td>5</td>\n",
       "      <td>5</td>\n",
       "    </tr>\n",
       "    <tr>\n",
       "      <th>3</th>\n",
       "      <td>1</td>\n",
       "      <td>373</td>\n",
       "      <td>3</td>\n",
       "    </tr>\n",
       "    <tr>\n",
       "      <th>4</th>\n",
       "      <td>1</td>\n",
       "      <td>101</td>\n",
       "      <td>4</td>\n",
       "    </tr>\n",
       "  </tbody>\n",
       "</table>\n",
       "</div>"
      ],
      "text/plain": [
       "   User_Id  Place_Id  Place_Ratings\n",
       "0        1       179              3\n",
       "1        1       344              2\n",
       "2        1         5              5\n",
       "3        1       373              3\n",
       "4        1       101              4"
      ]
     },
     "execution_count": 3,
     "metadata": {},
     "output_type": "execute_result"
    }
   ],
   "source": [
    "# cek 5 data pertama dalam dataset\n",
    "df.head()"
   ]
  },
  {
   "cell_type": "code",
   "execution_count": 4,
   "metadata": {},
   "outputs": [
    {
     "data": {
      "text/plain": [
       "Index(['User_Id', 'Place_Id', 'Place_Ratings'], dtype='object')"
      ]
     },
     "execution_count": 4,
     "metadata": {},
     "output_type": "execute_result"
    }
   ],
   "source": [
    "# cek nama kolom yang terdapat pada dataset\n",
    "df.columns"
   ]
  },
  {
   "cell_type": "code",
   "execution_count": 5,
   "metadata": {},
   "outputs": [
    {
     "name": "stdout",
     "output_type": "stream",
     "text": [
      "<class 'pandas.core.frame.DataFrame'>\n",
      "RangeIndex: 10000 entries, 0 to 9999\n",
      "Data columns (total 3 columns):\n",
      " #   Column         Non-Null Count  Dtype\n",
      "---  ------         --------------  -----\n",
      " 0   User_Id        10000 non-null  int64\n",
      " 1   Place_Id       10000 non-null  int64\n",
      " 2   Place_Ratings  10000 non-null  int64\n",
      "dtypes: int64(3)\n",
      "memory usage: 234.5 KB\n"
     ]
    }
   ],
   "source": [
    "# melihat informasi dasar dataset\n",
    "df.info()"
   ]
  },
  {
   "cell_type": "code",
   "execution_count": 6,
   "metadata": {},
   "outputs": [
    {
     "data": {
      "text/plain": [
       "User_Id          300\n",
       "Place_Id         437\n",
       "Place_Ratings      5\n",
       "dtype: int64"
      ]
     },
     "execution_count": 6,
     "metadata": {},
     "output_type": "execute_result"
    }
   ],
   "source": [
    "# melihat jumlah nilai unik pada setiap kolom\n",
    "df.nunique()"
   ]
  },
  {
   "cell_type": "markdown",
   "metadata": {},
   "source": [
    "### Check Missing Data"
   ]
  },
  {
   "cell_type": "code",
   "execution_count": 7,
   "metadata": {},
   "outputs": [
    {
     "data": {
      "text/plain": [
       "User_Id          0\n",
       "Place_Id         0\n",
       "Place_Ratings    0\n",
       "dtype: int64"
      ]
     },
     "execution_count": 7,
     "metadata": {},
     "output_type": "execute_result"
    }
   ],
   "source": [
    "# melihat jumlah nilai kosong pada setiap kolom\n",
    "df.isna().sum()"
   ]
  },
  {
   "cell_type": "markdown",
   "metadata": {},
   "source": [
    "## **Data Preparation**"
   ]
  },
  {
   "cell_type": "code",
   "execution_count": 8,
   "metadata": {},
   "outputs": [],
   "source": [
    "# mengambil nilai unik kolom User_Id dan Place_Id\n",
    "user_ids = df['User_Id'].unique().tolist()\n",
    "place_ids = df['Place_Id'].unique().tolist()"
   ]
  },
  {
   "cell_type": "code",
   "execution_count": 9,
   "metadata": {},
   "outputs": [],
   "source": [
    "# encoding kolom User_Id dan Place_Id\n",
    "user_ids_encoded = {id: i for i, id in enumerate(user_ids)}\n",
    "place_ids_encoded = {id: i for i, id in enumerate(place_ids)}"
   ]
  },
  {
   "cell_type": "code",
   "execution_count": 10,
   "metadata": {},
   "outputs": [],
   "source": [
    "# membuat kolom baru yang berisi hasil encoding kolom User_Id dan Place_Id\n",
    "df['user'] = df['User_Id'].map(user_ids_encoded)\n",
    "df['place'] = df['Place_Id'].map(place_ids_encoded)"
   ]
  },
  {
   "cell_type": "code",
   "execution_count": 11,
   "metadata": {},
   "outputs": [],
   "source": [
    "# menghitung jumlah nilai unik kolom User_Id dan Place_Id\n",
    "len_users = len(user_ids_encoded)\n",
    "len_place = len(place_ids_encoded)"
   ]
  },
  {
   "cell_type": "code",
   "execution_count": 12,
   "metadata": {},
   "outputs": [
    {
     "name": "stdout",
     "output_type": "stream",
     "text": [
      "Count of Users: 300 | Count of Place: 437 | Min Rating: 1.0 | Max Rating: 5.0\n"
     ]
    }
   ],
   "source": [
    "# mengubah tipe data kolom Place_Ratings menjadi float\n",
    "df['Place_Ratings'] = df['Place_Ratings'].values.astype(np.float32)\n",
    "\n",
    "# mencari nilai minimum dan maksimum dari kolom Place_Ratings\n",
    "min_rating = min(df['Place_Ratings'])\n",
    "max_rating = max(df['Place_Ratings'])\n",
    "\n",
    "# menampilkan jumlah user, jumlah destinasi wisata, rating minimal dan rating maksimal\n",
    "print(\"Count of Users: {} | Count of Place: {} | Min Rating: {} | Max Rating: {}\"\n",
    "      .format(len_users, len_place, min_rating, max_rating))"
   ]
  },
  {
   "cell_type": "code",
   "execution_count": 13,
   "metadata": {},
   "outputs": [
    {
     "data": {
      "text/html": [
       "<div>\n",
       "<style scoped>\n",
       "    .dataframe tbody tr th:only-of-type {\n",
       "        vertical-align: middle;\n",
       "    }\n",
       "\n",
       "    .dataframe tbody tr th {\n",
       "        vertical-align: top;\n",
       "    }\n",
       "\n",
       "    .dataframe thead th {\n",
       "        text-align: right;\n",
       "    }\n",
       "</style>\n",
       "<table border=\"1\" class=\"dataframe\">\n",
       "  <thead>\n",
       "    <tr style=\"text-align: right;\">\n",
       "      <th></th>\n",
       "      <th>User_Id</th>\n",
       "      <th>Place_Id</th>\n",
       "      <th>Place_Ratings</th>\n",
       "      <th>user</th>\n",
       "      <th>place</th>\n",
       "    </tr>\n",
       "  </thead>\n",
       "  <tbody>\n",
       "    <tr>\n",
       "      <th>0</th>\n",
       "      <td>1</td>\n",
       "      <td>179</td>\n",
       "      <td>3.0</td>\n",
       "      <td>0</td>\n",
       "      <td>0</td>\n",
       "    </tr>\n",
       "    <tr>\n",
       "      <th>1</th>\n",
       "      <td>1</td>\n",
       "      <td>344</td>\n",
       "      <td>2.0</td>\n",
       "      <td>0</td>\n",
       "      <td>1</td>\n",
       "    </tr>\n",
       "    <tr>\n",
       "      <th>2</th>\n",
       "      <td>1</td>\n",
       "      <td>5</td>\n",
       "      <td>5.0</td>\n",
       "      <td>0</td>\n",
       "      <td>2</td>\n",
       "    </tr>\n",
       "    <tr>\n",
       "      <th>3</th>\n",
       "      <td>1</td>\n",
       "      <td>373</td>\n",
       "      <td>3.0</td>\n",
       "      <td>0</td>\n",
       "      <td>3</td>\n",
       "    </tr>\n",
       "    <tr>\n",
       "      <th>4</th>\n",
       "      <td>1</td>\n",
       "      <td>101</td>\n",
       "      <td>4.0</td>\n",
       "      <td>0</td>\n",
       "      <td>4</td>\n",
       "    </tr>\n",
       "  </tbody>\n",
       "</table>\n",
       "</div>"
      ],
      "text/plain": [
       "   User_Id  Place_Id  Place_Ratings  user  place\n",
       "0        1       179            3.0     0      0\n",
       "1        1       344            2.0     0      1\n",
       "2        1         5            5.0     0      2\n",
       "3        1       373            3.0     0      3\n",
       "4        1       101            4.0     0      4"
      ]
     },
     "execution_count": 13,
     "metadata": {},
     "output_type": "execute_result"
    }
   ],
   "source": [
    "# menampilkan dataset yang sudah diubah\n",
    "df.head()"
   ]
  },
  {
   "cell_type": "markdown",
   "metadata": {},
   "source": [
    "### Data Splitting"
   ]
  },
  {
   "cell_type": "code",
   "execution_count": 14,
   "metadata": {},
   "outputs": [],
   "source": [
    "# mengambil nilai fitur dan target\n",
    "X = df[['user', 'place']].values\n",
    "y = df['Place_Ratings'].apply(lambda x: (x - min_rating) / (max_rating - min_rating)).values"
   ]
  },
  {
   "cell_type": "code",
   "execution_count": 15,
   "metadata": {},
   "outputs": [
    {
     "data": {
      "text/plain": [
       "((8000, 2), (2000, 2), (8000,), (2000,))"
      ]
     },
     "execution_count": 15,
     "metadata": {},
     "output_type": "execute_result"
    }
   ],
   "source": [
    "# memisahkan data untuk training dan testing\n",
    "x_train, x_test, y_train, y_test = train_test_split(X, y,\n",
    "                                                    test_size=0.2,\n",
    "                                                    random_state=42)\n",
    "\n",
    "x_train.shape, x_test.shape, y_train.shape, y_test.shape"
   ]
  },
  {
   "cell_type": "code",
   "execution_count": 16,
   "metadata": {},
   "outputs": [],
   "source": [
    "# mengubah tipe data ke tensor\n",
    "x_train = torch.tensor(x_train, dtype=torch.long)\n",
    "y_train = torch.tensor(y_train, dtype=torch.float32)\n",
    "x_test = torch.tensor(x_test, dtype=torch.long)\n",
    "y_test = torch.tensor(y_test, dtype=torch.float32)"
   ]
  },
  {
   "cell_type": "code",
   "execution_count": 17,
   "metadata": {},
   "outputs": [],
   "source": [
    "# membuat dataset train dan test untuk model neural network\n",
    "train_set = TensorDataset(x_train, y_train)\n",
    "test_set = TensorDataset(x_test, y_test)\n",
    "\n",
    "# membuat dataloader dengan batch size 32\n",
    "train_loader = DataLoader(train_set, batch_size=32, shuffle=True)\n",
    "test_loader = DataLoader(test_set, batch_size=32, shuffle=False)"
   ]
  },
  {
   "cell_type": "markdown",
   "metadata": {},
   "source": [
    "## **Modeling**"
   ]
  },
  {
   "cell_type": "markdown",
   "metadata": {},
   "source": [
    "### Define Model"
   ]
  },
  {
   "cell_type": "code",
   "execution_count": 18,
   "metadata": {},
   "outputs": [],
   "source": [
    "# mendefinisikan model \n",
    "model = Model.NeuralCollaborativeModel(len_users, len_place, embedding_size=100)\n",
    "model = model.to(device)\n",
    "\n",
    "# mendefinisakan loss function dan optimizer\n",
    "criterion = nn.MSELoss()\n",
    "optimizer = optim.AdamW(model.parameters(), lr=0.0001)"
   ]
  },
  {
   "cell_type": "markdown",
   "metadata": {},
   "source": [
    "### Training Process"
   ]
  },
  {
   "cell_type": "code",
   "execution_count": 19,
   "metadata": {},
   "outputs": [],
   "source": [
    "# fungsi untuk proses training\n",
    "def training_step(engine, batch):\n",
    "    feature, target = batch[0].to(device), batch[1].to(device)\n",
    "    model.train()\n",
    "    user, place = feature[:, 0], feature[:, 1]\n",
    "    y_pred = model(user, place)\n",
    "    loss = criterion(y_pred, target)\n",
    "    loss.backward()\n",
    "    optimizer.step()\n",
    "    optimizer.zero_grad()\n",
    "    engine.state.metrics[\"train_loss\"] = loss.item()\n",
    "    return {\"train_loss\": loss.item()}"
   ]
  },
  {
   "cell_type": "code",
   "execution_count": 20,
   "metadata": {},
   "outputs": [
    {
     "data": {
      "text/plain": [
       "<ignite.engine.events.RemovableEventHandle at 0x21edf068f20>"
      ]
     },
     "execution_count": 20,
     "metadata": {},
     "output_type": "execute_result"
    }
   ],
   "source": [
    "# mendefinisikan engine untuk proses training\n",
    "trainer = Engine(training_step)\n",
    "\n",
    "# menghitung nilai running rata-rata metrik yang digunakan \n",
    "def output_transform(metric):\n",
    "    return metric[\"train_loss\"]\n",
    "RunningAverage(output_transform=output_transform).attach(trainer, \"train_loss\")\n",
    "\n",
    "# menambahkan TerminateOnNan ke event: menghentikan training jika output bernilai NaN\n",
    "trainer.add_event_handler(Events.ITERATION_COMPLETED, TerminateOnNan())"
   ]
  },
  {
   "cell_type": "markdown",
   "metadata": {},
   "source": [
    "### Validation & Testing Process"
   ]
  },
  {
   "cell_type": "code",
   "execution_count": 21,
   "metadata": {},
   "outputs": [],
   "source": [
    "# fungsi untuk proses testing\n",
    "def validation_step(engine, batch):\n",
    "    feature, target = batch[0].to(device), batch[1].to(device)\n",
    "    model.eval()\n",
    "    with torch.no_grad():\n",
    "        user, place = feature[:, 0], feature[:, 1]\n",
    "        y_pred = model(user, place)\n",
    "        return y_pred, target"
   ]
  },
  {
   "cell_type": "code",
   "execution_count": 22,
   "metadata": {},
   "outputs": [],
   "source": [
    "# mendefinisikan engine untuk proses validasi dan testing\n",
    "train_evaluator = Engine(validation_step)\n",
    "evaluator = Engine(validation_step)\n",
    "\n",
    "# mendefinisikan metrik yang digunakan\n",
    "metrics = {\n",
    "    \"MAE\": MeanAbsoluteError(device=device),\n",
    "    \"loss\": Loss(criterion, device=device),\n",
    "    \"MSE\": MeanSquaredError(device=device),\n",
    "    \"RMSE\": RootMeanSquaredError(device=device)\n",
    "}\n",
    "\n",
    "# menambahkan metrik ke dalam engine evaluator\n",
    "for name, metric in metrics.items():\n",
    "    metric.attach(train_evaluator, name)\n",
    "    metric.attach(evaluator, name)"
   ]
  },
  {
   "cell_type": "markdown",
   "metadata": {},
   "source": [
    "### Log Train & Test Model"
   ]
  },
  {
   "cell_type": "code",
   "execution_count": 23,
   "metadata": {},
   "outputs": [
    {
     "data": {
      "text/plain": [
       "<ignite.engine.events.RemovableEventHandle at 0x21ee1481730>"
      ]
     },
     "execution_count": 23,
     "metadata": {},
     "output_type": "execute_result"
    }
   ],
   "source": [
    "# menyimpan nilai metrik pada setiap epoch kedalam dictionary\n",
    "log_train_val_metric = {\"mae\": [], \"mse\": [], \"rmse\": [], \"loss\": []}\n",
    "log_test_metric = {\"mae\": [], \"mse\": [], \"rmse\": [], \"loss\": []}\n",
    "\n",
    "# fungsi untuk log/melacak hasil validasi pada setiap epoch\n",
    "def log_train_evaluation(engine):\n",
    "    train_evaluator.run(train_loader)\n",
    "    metrics = train_evaluator.state.metrics\n",
    "    loss = metrics[\"loss\"]\n",
    "    mae = metrics[\"MAE\"]\n",
    "    mse = metrics[\"MSE\"]\n",
    "    rmse = metrics[\"RMSE\"]\n",
    "    log_train_val_metric[\"mae\"].append(mae)\n",
    "    log_train_val_metric[\"loss\"].append(loss)\n",
    "    log_train_val_metric[\"mse\"].append(mse)\n",
    "    log_train_val_metric[\"rmse\"].append(rmse)\n",
    "\n",
    "# fungsi untuk log/melacak hasil testing pada setiap epoch    \n",
    "def log_test_evaluation(engine):\n",
    "    evaluator.run(test_loader)\n",
    "    metrics = evaluator.state.metrics\n",
    "    loss = metrics[\"loss\"]\n",
    "    mae = metrics[\"MAE\"]\n",
    "    mse = metrics[\"MSE\"]\n",
    "    rmse = metrics[\"RMSE\"]\n",
    "    log_test_metric[\"mae\"].append(mae)\n",
    "    log_test_metric[\"loss\"].append(loss)\n",
    "    log_test_metric[\"mse\"].append(mse)\n",
    "    log_test_metric[\"rmse\"].append(rmse)\n",
    "\n",
    "# menambahkan fungsi ke engine setiap satu epoch proses training selesai dilakukan\n",
    "trainer.add_event_handler(Events.EPOCH_COMPLETED, log_train_evaluation)\n",
    "trainer.add_event_handler(Events.EPOCH_COMPLETED, log_test_evaluation)"
   ]
  },
  {
   "cell_type": "code",
   "execution_count": 24,
   "metadata": {},
   "outputs": [],
   "source": [
    "# membuat tqdm bar untuk visualisasi selama proses training\n",
    "ProgressBar(bar_format=\"\").attach(trainer,\n",
    "                                  metric_names=['train_loss', 'lr'])\n",
    "\n",
    "ProgressBar(persist=True, bar_format=\"\").attach(trainer,\n",
    "                                  metric_names=[\"train_loss\", \"lr\"],\n",
    "                                  event_name=Events.EPOCH_STARTED,\n",
    "                                  closing_event_name=Events.EPOCH_COMPLETED)"
   ]
  },
  {
   "cell_type": "markdown",
   "metadata": {},
   "source": [
    "### Learning Rate Scheduler"
   ]
  },
  {
   "cell_type": "code",
   "execution_count": 25,
   "metadata": {},
   "outputs": [
    {
     "data": {
      "text/plain": [
       "<ignite.engine.events.RemovableEventHandle at 0x21ee14ed2b0>"
      ]
     },
     "execution_count": 25,
     "metadata": {},
     "output_type": "execute_result"
    }
   ],
   "source": [
    "# membuat learning rate scheduler untuk fine tunning\n",
    "lr_scheduler = lr_scheduler.StepLR(optimizer, step_size=10, gamma=0.5)\n",
    "trainer.add_event_handler(Events.EPOCH_COMPLETED, lambda engine: lr_scheduler.step())\n",
    "\n",
    "# log/melacak nilai laerning rate setiap epoch \n",
    "def log_lr(engine):\n",
    "    lr = optimizer.param_groups[0][\"lr\"]\n",
    "    engine.state.metrics[\"lr\"] = lr    \n",
    "trainer.add_event_handler(Events.ITERATION_COMPLETED, log_lr)"
   ]
  },
  {
   "cell_type": "markdown",
   "metadata": {},
   "source": [
    "### EarlyStopping"
   ]
  },
  {
   "cell_type": "code",
   "execution_count": 26,
   "metadata": {},
   "outputs": [
    {
     "data": {
      "text/plain": [
       "<ignite.engine.events.RemovableEventHandle at 0x21edec78f80>"
      ]
     },
     "execution_count": 26,
     "metadata": {},
     "output_type": "execute_result"
    }
   ],
   "source": [
    "# fungsi untuk mengambil nilai loss\n",
    "def score_function(engine):\n",
    "    val_loss = engine.state.metrics['loss']\n",
    "    return -val_loss\n",
    "\n",
    "# earlystopping dengan patience 5 berdasarkan nilai loss\n",
    "patience = 5\n",
    "early_stopping = EarlyStopping(patience=patience, score_function=score_function, trainer=trainer)\n",
    "evaluator.add_event_handler(Events.COMPLETED, early_stopping)"
   ]
  },
  {
   "cell_type": "markdown",
   "metadata": {},
   "source": [
    "### Model Checkpoint"
   ]
  },
  {
   "cell_type": "code",
   "execution_count": 27,
   "metadata": {},
   "outputs": [
    {
     "data": {
      "text/plain": [
       "<ignite.engine.events.RemovableEventHandle at 0x21edf77ba10>"
      ]
     },
     "execution_count": 27,
     "metadata": {},
     "output_type": "execute_result"
    }
   ],
   "source": [
    "# menyimpan model terbaik ke dalam file\n",
    "def score_function(engine):\n",
    "    val_loss = engine.state.metrics['MAE']\n",
    "    return val_loss\n",
    "\n",
    "checkpoint = ModelCheckpoint(\n",
    "    dirname=\"./Save_Models\",\n",
    "    filename_prefix=\"best\", \n",
    "    n_saved=1, \n",
    "    create_dir=True,\n",
    "    score_name=\"mae\", \n",
    "    score_function=score_function,\n",
    "    require_empty=False\n",
    ")\n",
    "\n",
    "evaluator.add_event_handler(Events.EPOCH_COMPLETED, checkpoint, {\"model\": model})"
   ]
  },
  {
   "cell_type": "markdown",
   "metadata": {},
   "source": [
    "### Run Engine"
   ]
  },
  {
   "cell_type": "code",
   "execution_count": 28,
   "metadata": {},
   "outputs": [
    {
     "data": {
      "application/vnd.jupyter.widget-view+json": {
       "model_id": "ac04f1f1058e4ca1a5cba045ae8b6026",
       "version_major": 2,
       "version_minor": 0
      },
      "text/plain": [
       "  1%|1         | 1/100 [00:00<?, ?it/s]"
      ]
     },
     "metadata": {},
     "output_type": "display_data"
    },
    {
     "data": {
      "application/vnd.jupyter.widget-view+json": {
       "model_id": "c92a301e910a4fdf879c513ac9c42ce6",
       "version_major": 2,
       "version_minor": 0
      },
      "text/plain": [
       "  0%|          | 1/250 [00:00<?, ?it/s]"
      ]
     },
     "metadata": {},
     "output_type": "display_data"
    },
    {
     "data": {
      "application/vnd.jupyter.widget-view+json": {
       "model_id": "75ad0975937b4e029461c1a5bcd3a3ed",
       "version_major": 2,
       "version_minor": 0
      },
      "text/plain": [
       "  1%|1         | 1/100 [00:00<?, ?it/s]"
      ]
     },
     "metadata": {},
     "output_type": "display_data"
    },
    {
     "data": {
      "application/vnd.jupyter.widget-view+json": {
       "model_id": "893a68fa99914f179e91ccb7d4c2d091",
       "version_major": 2,
       "version_minor": 0
      },
      "text/plain": [
       "  0%|          | 1/250 [00:00<?, ?it/s]"
      ]
     },
     "metadata": {},
     "output_type": "display_data"
    },
    {
     "data": {
      "application/vnd.jupyter.widget-view+json": {
       "model_id": "7abb9d7f390f4d978044e14a2f59ebf3",
       "version_major": 2,
       "version_minor": 0
      },
      "text/plain": [
       "  1%|1         | 1/100 [00:00<?, ?it/s]"
      ]
     },
     "metadata": {},
     "output_type": "display_data"
    },
    {
     "data": {
      "application/vnd.jupyter.widget-view+json": {
       "model_id": "9087eb6b56a54801ad9f5e81bb3245d3",
       "version_major": 2,
       "version_minor": 0
      },
      "text/plain": [
       "  0%|          | 1/250 [00:00<?, ?it/s]"
      ]
     },
     "metadata": {},
     "output_type": "display_data"
    },
    {
     "data": {
      "application/vnd.jupyter.widget-view+json": {
       "model_id": "147ed6c56f4f4f93b734e471bff63dd9",
       "version_major": 2,
       "version_minor": 0
      },
      "text/plain": [
       "  1%|1         | 1/100 [00:00<?, ?it/s]"
      ]
     },
     "metadata": {},
     "output_type": "display_data"
    },
    {
     "data": {
      "application/vnd.jupyter.widget-view+json": {
       "model_id": "9bd1b2a7bcac4b00b16679f33cca8618",
       "version_major": 2,
       "version_minor": 0
      },
      "text/plain": [
       "  0%|          | 1/250 [00:00<?, ?it/s]"
      ]
     },
     "metadata": {},
     "output_type": "display_data"
    },
    {
     "data": {
      "application/vnd.jupyter.widget-view+json": {
       "model_id": "7c75b42f5c4242b380217775c8df7455",
       "version_major": 2,
       "version_minor": 0
      },
      "text/plain": [
       "  1%|1         | 1/100 [00:00<?, ?it/s]"
      ]
     },
     "metadata": {},
     "output_type": "display_data"
    },
    {
     "data": {
      "application/vnd.jupyter.widget-view+json": {
       "model_id": "18e024161f7b451f837e438c5c42c071",
       "version_major": 2,
       "version_minor": 0
      },
      "text/plain": [
       "  0%|          | 1/250 [00:00<?, ?it/s]"
      ]
     },
     "metadata": {},
     "output_type": "display_data"
    },
    {
     "data": {
      "application/vnd.jupyter.widget-view+json": {
       "model_id": "a381e01a094e493d9b00d0f3c1948c24",
       "version_major": 2,
       "version_minor": 0
      },
      "text/plain": [
       "  1%|1         | 1/100 [00:00<?, ?it/s]"
      ]
     },
     "metadata": {},
     "output_type": "display_data"
    },
    {
     "data": {
      "application/vnd.jupyter.widget-view+json": {
       "model_id": "af7b7bf4b07f4d718701c2a0ef0942cb",
       "version_major": 2,
       "version_minor": 0
      },
      "text/plain": [
       "  0%|          | 1/250 [00:00<?, ?it/s]"
      ]
     },
     "metadata": {},
     "output_type": "display_data"
    },
    {
     "data": {
      "application/vnd.jupyter.widget-view+json": {
       "model_id": "42d7110e4f9743bcb8d7e0495e699824",
       "version_major": 2,
       "version_minor": 0
      },
      "text/plain": [
       "  1%|1         | 1/100 [00:00<?, ?it/s]"
      ]
     },
     "metadata": {},
     "output_type": "display_data"
    },
    {
     "data": {
      "application/vnd.jupyter.widget-view+json": {
       "model_id": "1534e407116e43b0af09f12acd3f0131",
       "version_major": 2,
       "version_minor": 0
      },
      "text/plain": [
       "  0%|          | 1/250 [00:00<?, ?it/s]"
      ]
     },
     "metadata": {},
     "output_type": "display_data"
    },
    {
     "data": {
      "application/vnd.jupyter.widget-view+json": {
       "model_id": "3b6cf881d0744a31892a80a4f93785df",
       "version_major": 2,
       "version_minor": 0
      },
      "text/plain": [
       "  1%|1         | 1/100 [00:00<?, ?it/s]"
      ]
     },
     "metadata": {},
     "output_type": "display_data"
    },
    {
     "data": {
      "application/vnd.jupyter.widget-view+json": {
       "model_id": "25caadf6d0374a9fa5eece7565df9937",
       "version_major": 2,
       "version_minor": 0
      },
      "text/plain": [
       "  0%|          | 1/250 [00:00<?, ?it/s]"
      ]
     },
     "metadata": {},
     "output_type": "display_data"
    },
    {
     "data": {
      "application/vnd.jupyter.widget-view+json": {
       "model_id": "3d338a506bf444498ab675e8b54ee6bb",
       "version_major": 2,
       "version_minor": 0
      },
      "text/plain": [
       "  1%|1         | 1/100 [00:00<?, ?it/s]"
      ]
     },
     "metadata": {},
     "output_type": "display_data"
    },
    {
     "data": {
      "application/vnd.jupyter.widget-view+json": {
       "model_id": "4e53722483274fe2b527e040a3cc095c",
       "version_major": 2,
       "version_minor": 0
      },
      "text/plain": [
       "  0%|          | 1/250 [00:00<?, ?it/s]"
      ]
     },
     "metadata": {},
     "output_type": "display_data"
    },
    {
     "data": {
      "application/vnd.jupyter.widget-view+json": {
       "model_id": "0b328c1e8f8348ceb994fbf6c0a24dda",
       "version_major": 2,
       "version_minor": 0
      },
      "text/plain": [
       "  1%|1         | 1/100 [00:00<?, ?it/s]"
      ]
     },
     "metadata": {},
     "output_type": "display_data"
    },
    {
     "data": {
      "application/vnd.jupyter.widget-view+json": {
       "model_id": "11b210a67dc44f1ca01606cc7c845cb4",
       "version_major": 2,
       "version_minor": 0
      },
      "text/plain": [
       "  0%|          | 1/250 [00:00<?, ?it/s]"
      ]
     },
     "metadata": {},
     "output_type": "display_data"
    },
    {
     "data": {
      "application/vnd.jupyter.widget-view+json": {
       "model_id": "6758323490954b9dbd1dac2b224721c3",
       "version_major": 2,
       "version_minor": 0
      },
      "text/plain": [
       "  1%|1         | 1/100 [00:00<?, ?it/s]"
      ]
     },
     "metadata": {},
     "output_type": "display_data"
    },
    {
     "data": {
      "application/vnd.jupyter.widget-view+json": {
       "model_id": "1c3912318e694c6ebc7e98295f9fd1bb",
       "version_major": 2,
       "version_minor": 0
      },
      "text/plain": [
       "  0%|          | 1/250 [00:00<?, ?it/s]"
      ]
     },
     "metadata": {},
     "output_type": "display_data"
    },
    {
     "data": {
      "application/vnd.jupyter.widget-view+json": {
       "model_id": "78e61d609a8c4e1fbd6ac2516c45604f",
       "version_major": 2,
       "version_minor": 0
      },
      "text/plain": [
       "  1%|1         | 1/100 [00:00<?, ?it/s]"
      ]
     },
     "metadata": {},
     "output_type": "display_data"
    },
    {
     "data": {
      "application/vnd.jupyter.widget-view+json": {
       "model_id": "57023144038546ce835fbcb0bac582e4",
       "version_major": 2,
       "version_minor": 0
      },
      "text/plain": [
       "  0%|          | 1/250 [00:00<?, ?it/s]"
      ]
     },
     "metadata": {},
     "output_type": "display_data"
    },
    {
     "data": {
      "application/vnd.jupyter.widget-view+json": {
       "model_id": "3999376296f94381951813cd04e11f17",
       "version_major": 2,
       "version_minor": 0
      },
      "text/plain": [
       "  1%|1         | 1/100 [00:00<?, ?it/s]"
      ]
     },
     "metadata": {},
     "output_type": "display_data"
    },
    {
     "data": {
      "application/vnd.jupyter.widget-view+json": {
       "model_id": "69e5f1bfb2194339bfb5cbf699e3f6e9",
       "version_major": 2,
       "version_minor": 0
      },
      "text/plain": [
       "  0%|          | 1/250 [00:00<?, ?it/s]"
      ]
     },
     "metadata": {},
     "output_type": "display_data"
    },
    {
     "data": {
      "application/vnd.jupyter.widget-view+json": {
       "model_id": "bf657634fa884868a79e5d088f4aa0aa",
       "version_major": 2,
       "version_minor": 0
      },
      "text/plain": [
       "  1%|1         | 1/100 [00:00<?, ?it/s]"
      ]
     },
     "metadata": {},
     "output_type": "display_data"
    },
    {
     "data": {
      "application/vnd.jupyter.widget-view+json": {
       "model_id": "5433304593af44f7a7e6b5d3891efbe3",
       "version_major": 2,
       "version_minor": 0
      },
      "text/plain": [
       "  0%|          | 1/250 [00:00<?, ?it/s]"
      ]
     },
     "metadata": {},
     "output_type": "display_data"
    },
    {
     "data": {
      "application/vnd.jupyter.widget-view+json": {
       "model_id": "61e2aa8dad0e4796b73f6d657b4bdf1c",
       "version_major": 2,
       "version_minor": 0
      },
      "text/plain": [
       "  1%|1         | 1/100 [00:00<?, ?it/s]"
      ]
     },
     "metadata": {},
     "output_type": "display_data"
    },
    {
     "data": {
      "application/vnd.jupyter.widget-view+json": {
       "model_id": "f7edcdaf4aa7446c9dbe22c5dc6af75b",
       "version_major": 2,
       "version_minor": 0
      },
      "text/plain": [
       "  0%|          | 1/250 [00:00<?, ?it/s]"
      ]
     },
     "metadata": {},
     "output_type": "display_data"
    },
    {
     "data": {
      "application/vnd.jupyter.widget-view+json": {
       "model_id": "dc50a98ce5de4009bf3f2b446e020d17",
       "version_major": 2,
       "version_minor": 0
      },
      "text/plain": [
       "  1%|1         | 1/100 [00:00<?, ?it/s]"
      ]
     },
     "metadata": {},
     "output_type": "display_data"
    },
    {
     "data": {
      "application/vnd.jupyter.widget-view+json": {
       "model_id": "02ede994f0084ffdb5c1334c55da0d69",
       "version_major": 2,
       "version_minor": 0
      },
      "text/plain": [
       "  0%|          | 1/250 [00:00<?, ?it/s]"
      ]
     },
     "metadata": {},
     "output_type": "display_data"
    },
    {
     "data": {
      "application/vnd.jupyter.widget-view+json": {
       "model_id": "5d9ab83dbe0c4f31816056061bb7038e",
       "version_major": 2,
       "version_minor": 0
      },
      "text/plain": [
       "  1%|1         | 1/100 [00:00<?, ?it/s]"
      ]
     },
     "metadata": {},
     "output_type": "display_data"
    },
    {
     "data": {
      "application/vnd.jupyter.widget-view+json": {
       "model_id": "ff7b3de6d19c436fa4f4ff398f9b2d50",
       "version_major": 2,
       "version_minor": 0
      },
      "text/plain": [
       "  0%|          | 1/250 [00:00<?, ?it/s]"
      ]
     },
     "metadata": {},
     "output_type": "display_data"
    },
    {
     "data": {
      "application/vnd.jupyter.widget-view+json": {
       "model_id": "2e2b649d64044ad280eb152500f0cf5a",
       "version_major": 2,
       "version_minor": 0
      },
      "text/plain": [
       "  1%|1         | 1/100 [00:00<?, ?it/s]"
      ]
     },
     "metadata": {},
     "output_type": "display_data"
    },
    {
     "data": {
      "application/vnd.jupyter.widget-view+json": {
       "model_id": "7ace0248a8474c78bbcb52d5ae56ef15",
       "version_major": 2,
       "version_minor": 0
      },
      "text/plain": [
       "  0%|          | 1/250 [00:00<?, ?it/s]"
      ]
     },
     "metadata": {},
     "output_type": "display_data"
    },
    {
     "data": {
      "application/vnd.jupyter.widget-view+json": {
       "model_id": "40b03765e7cb4612a54daf4bc3a2fa41",
       "version_major": 2,
       "version_minor": 0
      },
      "text/plain": [
       "  1%|1         | 1/100 [00:00<?, ?it/s]"
      ]
     },
     "metadata": {},
     "output_type": "display_data"
    },
    {
     "data": {
      "application/vnd.jupyter.widget-view+json": {
       "model_id": "ca80b50a925a475697f4f0aba007ad0d",
       "version_major": 2,
       "version_minor": 0
      },
      "text/plain": [
       "  0%|          | 1/250 [00:00<?, ?it/s]"
      ]
     },
     "metadata": {},
     "output_type": "display_data"
    },
    {
     "data": {
      "application/vnd.jupyter.widget-view+json": {
       "model_id": "928dc6fbad7041c590a6bc08e18d0105",
       "version_major": 2,
       "version_minor": 0
      },
      "text/plain": [
       "  1%|1         | 1/100 [00:00<?, ?it/s]"
      ]
     },
     "metadata": {},
     "output_type": "display_data"
    },
    {
     "data": {
      "application/vnd.jupyter.widget-view+json": {
       "model_id": "895e9af808ac46e9af82b2c7fc6e437b",
       "version_major": 2,
       "version_minor": 0
      },
      "text/plain": [
       "  0%|          | 1/250 [00:00<?, ?it/s]"
      ]
     },
     "metadata": {},
     "output_type": "display_data"
    },
    {
     "data": {
      "application/vnd.jupyter.widget-view+json": {
       "model_id": "9bc20b5a926a4e4fa85a61014d7a1287",
       "version_major": 2,
       "version_minor": 0
      },
      "text/plain": [
       "  1%|1         | 1/100 [00:00<?, ?it/s]"
      ]
     },
     "metadata": {},
     "output_type": "display_data"
    },
    {
     "data": {
      "application/vnd.jupyter.widget-view+json": {
       "model_id": "285e6fb586ec4ecfa8347aa1b653e8c5",
       "version_major": 2,
       "version_minor": 0
      },
      "text/plain": [
       "  0%|          | 1/250 [00:00<?, ?it/s]"
      ]
     },
     "metadata": {},
     "output_type": "display_data"
    },
    {
     "data": {
      "application/vnd.jupyter.widget-view+json": {
       "model_id": "846eddf56d994a6fbe0bd5abeb4eb5b2",
       "version_major": 2,
       "version_minor": 0
      },
      "text/plain": [
       "  1%|1         | 1/100 [00:00<?, ?it/s]"
      ]
     },
     "metadata": {},
     "output_type": "display_data"
    },
    {
     "data": {
      "application/vnd.jupyter.widget-view+json": {
       "model_id": "069374731fb04928a11750aedb2c0c14",
       "version_major": 2,
       "version_minor": 0
      },
      "text/plain": [
       "  0%|          | 1/250 [00:00<?, ?it/s]"
      ]
     },
     "metadata": {},
     "output_type": "display_data"
    },
    {
     "data": {
      "application/vnd.jupyter.widget-view+json": {
       "model_id": "09c2546f12164bd299ed542d8ec43ec3",
       "version_major": 2,
       "version_minor": 0
      },
      "text/plain": [
       "  1%|1         | 1/100 [00:00<?, ?it/s]"
      ]
     },
     "metadata": {},
     "output_type": "display_data"
    },
    {
     "data": {
      "application/vnd.jupyter.widget-view+json": {
       "model_id": "3b6c80dbe20b425ebc7612d748def5e5",
       "version_major": 2,
       "version_minor": 0
      },
      "text/plain": [
       "  0%|          | 1/250 [00:00<?, ?it/s]"
      ]
     },
     "metadata": {},
     "output_type": "display_data"
    },
    {
     "name": "stderr",
     "output_type": "stream",
     "text": [
      "2025-04-13 12:25:22,072 ignite.handlers.early_stopping.EarlyStopping INFO: EarlyStopping: Stop training\n"
     ]
    },
    {
     "data": {
      "text/plain": [
       "State:\n",
       "\titeration: 5750\n",
       "\tepoch: 23\n",
       "\tepoch_length: 250\n",
       "\tmax_epochs: 100\n",
       "\toutput: <class 'dict'>\n",
       "\tbatch: <class 'list'>\n",
       "\tmetrics: <class 'dict'>\n",
       "\tdataloader: <class 'torch.utils.data.dataloader.DataLoader'>\n",
       "\tseed: <class 'NoneType'>\n",
       "\ttimes: <class 'dict'>"
      ]
     },
     "execution_count": 28,
     "metadata": {},
     "output_type": "execute_result"
    }
   ],
   "source": [
    "# running proses training menggunakan 100 epoch\n",
    "EPOCH = 100\n",
    "\n",
    "trainer.run(train_loader, max_epochs=EPOCH)"
   ]
  },
  {
   "cell_type": "code",
   "execution_count": 29,
   "metadata": {},
   "outputs": [
    {
     "data": {
      "text/plain": [
       "{'MAE': 0.29253866577148435,\n",
       " 'loss': 0.11944570159912109,\n",
       " 'MSE': 0.11724694061279296,\n",
       " 'RMSE': 0.34241340600623826}"
      ]
     },
     "execution_count": 29,
     "metadata": {},
     "output_type": "execute_result"
    }
   ],
   "source": [
    "# hasil akhir pada data validasi\n",
    "train_evaluator.state.metrics"
   ]
  },
  {
   "cell_type": "code",
   "execution_count": 30,
   "metadata": {},
   "outputs": [
    {
     "data": {
      "text/plain": [
       "{'MAE': 0.2934969177246094,\n",
       " 'loss': 0.11853000640869141,\n",
       " 'MSE': 0.11816599273681641,\n",
       " 'RMSE': 0.34375280760572186}"
      ]
     },
     "execution_count": 30,
     "metadata": {},
     "output_type": "execute_result"
    }
   ],
   "source": [
    "# hasil akhir pada data testing\n",
    "evaluator.state.metrics"
   ]
  },
  {
   "cell_type": "code",
   "execution_count": 31,
   "metadata": {},
   "outputs": [
    {
     "data": {
      "image/png": "[encoded data removed]",
      "text/plain": [
       "<Figure size 1500x1000 with 4 Axes>"
      ]
     },
     "metadata": {},
     "output_type": "display_data"
    }
   ],
   "source": [
    "# visualisasi metrik setiap epoch\n",
    "fig, ax = plt.subplots(2, 2, figsize=(15, 10))\n",
    "ax = ax.flatten()\n",
    "\n",
    "# Loss Score\n",
    "ax[0].plot(log_train_val_metric[\"loss\"][:-patience], c='r', label=\"train loss\")\n",
    "ax[0].plot(log_test_metric[\"loss\"][:-patience], c='b', label=\"test loss\")\n",
    "ax[0].set_title(\"Loss Score\")\n",
    "ax[0].set_xlabel(\"Epoch\")\n",
    "ax[0].set_ylabel(\"Loss\")\n",
    "ax[0].legend()\n",
    "\n",
    "# Mean Absolute Error Score\n",
    "ax[1].plot(log_train_val_metric[\"mae\"][:-patience], c='r', label=\"train mae\")\n",
    "ax[1].plot(log_test_metric[\"mae\"][:-patience], c='b', label=\"test mae\")\n",
    "ax[1].set_title(\"Mean Absolute Error Score\")\n",
    "ax[1].set_xlabel(\"Epoch\")\n",
    "ax[1].set_ylabel(\"MAE\")\n",
    "ax[1].legend()\n",
    "\n",
    "# Mean Squared Error Score\n",
    "ax[2].plot(log_train_val_metric[\"mse\"][:-patience], c='r', label=\"train mae\")\n",
    "ax[2].plot(log_test_metric[\"mse\"][:-patience], c='b', label=\"test mae\")\n",
    "ax[2].set_title(\"Mean Squared Error Score\")\n",
    "ax[2].set_xlabel(\"Epoch\")\n",
    "ax[2].set_ylabel(\"MSE\")\n",
    "ax[2].legend()\n",
    "\n",
    "# Root Mean Squared Error Score\n",
    "ax[3].plot(log_train_val_metric[\"rmse\"][:-patience], c='r', label=\"train mae\")\n",
    "ax[3].plot(log_test_metric[\"rmse\"][:-patience], c='b', label=\"test mae\")\n",
    "ax[3].set_title(\"Root Mean Squared Error Score\")\n",
    "ax[3].set_xlabel(\"Epoch\")\n",
    "ax[3].set_ylabel(\"RMSE\")\n",
    "ax[3].legend()\n",
    "\n",
    "fig.tight_layout()\n",
    "fig.show()"
   ]
  },
  {
   "cell_type": "markdown",
   "metadata": {},
   "source": [
    "## **Inference**"
   ]
  },
  {
   "cell_type": "code",
   "execution_count": 32,
   "metadata": {},
   "outputs": [
    {
     "data": {
      "text/plain": [
       "WindowsPath('Save_Models/best_model_mae=0.2966.pt')"
      ]
     },
     "execution_count": 32,
     "metadata": {},
     "output_type": "execute_result"
    }
   ],
   "source": [
    "# fungsi untuk mencari model terbaik yang telah disimpan\n",
    "def last_checkpoint_filename(path_name):\n",
    "    filename = os.listdir(path_name)\n",
    "    models = [x for x in filename if x.endswith(\".pt\")]\n",
    "    checkpoint_iter = [float(z.split(\"_\")[2].split('=')[1].replace(\".pt\", \"\")) for z in models]\n",
    "    idx = np.array(checkpoint_iter).argmax()\n",
    "    return Path(path_name + models[idx])\n",
    "\n",
    "load_modelcheckpoint = last_checkpoint_filename(\"./Save_Models/\")\n",
    "load_modelcheckpoint"
   ]
  },
  {
   "cell_type": "code",
   "execution_count": 33,
   "metadata": {},
   "outputs": [
    {
     "data": {
      "text/plain": [
       "<All keys matched successfully>"
      ]
     },
     "execution_count": 33,
     "metadata": {},
     "output_type": "execute_result"
    }
   ],
   "source": [
    "# load model yang disimpan\n",
    "loaded_model = model\n",
    "loaded_model.load_state_dict(torch.load(load_modelcheckpoint,weights_only=True))"
   ]
  },
  {
   "cell_type": "code",
   "execution_count": 34,
   "metadata": {},
   "outputs": [],
   "source": [
    "# fungsi untuk proses inferensi\n",
    "def inference_step(engine, batch):\n",
    "    global inference_items\n",
    "    model.eval()\n",
    "    with torch.inference_mode():\n",
    "        feature, target = batch[0].to(device), batch[1].to(device)\n",
    "        user, place = feature[:, 0], feature[:, 1]\n",
    "        y_pred = loaded_model(user, place)\n",
    "        output = {\"feature\": feature, \"target\": target, \"preds\": torch.argmax(y_pred, dim=1)}\n",
    "        engine.state.metrics = output\n",
    "        return y_pred, target"
   ]
  },
  {
   "cell_type": "code",
   "execution_count": 35,
   "metadata": {},
   "outputs": [],
   "source": [
    "# mendefinisikan engine untuk proses inferensi\n",
    "inferencer = Engine(inference_step)\n",
    "\n",
    "# menambahkan metrik ke dalam engine inference\n",
    "for name, metric in metrics.items():\n",
    "    metric.attach(inferencer, name)"
   ]
  },
  {
   "cell_type": "code",
   "execution_count": 36,
   "metadata": {},
   "outputs": [
    {
     "data": {
      "application/vnd.jupyter.widget-view+json": {
       "model_id": "0712a2b64c4e49a4be57430a2d142440",
       "version_major": 2,
       "version_minor": 0
      },
      "text/plain": [
       "Inference[1/63]   2%|1          [00:00<?]"
      ]
     },
     "metadata": {},
     "output_type": "display_data"
    },
    {
     "data": {
      "text/plain": [
       "State:\n",
       "\titeration: 63\n",
       "\tepoch: 1\n",
       "\tepoch_length: 63\n",
       "\tmax_epochs: 1\n",
       "\toutput: <class 'tuple'>\n",
       "\tbatch: <class 'list'>\n",
       "\tmetrics: <class 'dict'>\n",
       "\tdataloader: <class 'torch.utils.data.dataloader.DataLoader'>\n",
       "\tseed: <class 'NoneType'>\n",
       "\ttimes: <class 'dict'>"
      ]
     },
     "execution_count": 36,
     "metadata": {},
     "output_type": "execute_result"
    }
   ],
   "source": [
    "#  log dan running proses inferensi\n",
    "ProgressBar(desc=\"Inference\").attach(inferencer)\n",
    "\n",
    "inferencer.run(test_loader, max_epochs=1)"
   ]
  },
  {
   "cell_type": "code",
   "execution_count": 37,
   "metadata": {},
   "outputs": [
    {
     "name": "stdout",
     "output_type": "stream",
     "text": [
      "Mean Absolute Error     : 0.2966\n",
      "Mean Squared Error      : 0.1196\n",
      "Root Mean Squared Error : 0.3459\n"
     ]
    }
   ],
   "source": [
    "# menampilkan nilai metrik \n",
    "mae = inferencer.state.metrics['MAE']\n",
    "mse = inferencer.state.metrics['MSE']\n",
    "rmse = inferencer.state.metrics['RMSE']\n",
    "\n",
    "print(f\"Mean Absolute Error     : {mae:.4f}\")\n",
    "print(f\"Mean Squared Error      : {mse:.4f}\")\n",
    "print(f\"Root Mean Squared Error : {rmse:.4f}\")\n"
   ]
  }
 ],
 "metadata": {
  "kernelspec": {
   "display_name": "Python 3",
   "language": "python",
   "name": "python3"
  },
  "language_info": {
   "codemirror_mode": {
    "name": "ipython",
    "version": 3
   },
   "file_extension": ".py",
   "mimetype": "text/x-python",
   "name": "python",
   "nbconvert_exporter": "python",
   "pygments_lexer": "ipython3",
   "version": "3.12.4"
  }
 },
 "nbformat": 4,
 "nbformat_minor": 2
}
